{
 "cells": [
  {
   "cell_type": "code",
   "execution_count": 22,
   "metadata": {},
   "outputs": [],
   "source": [
    "#import modules\n",
    "import tkinter as tk\n",
    "import ttkbootstrap as ttk"
   ]
  },
  {
   "cell_type": "code",
   "execution_count": 23,
   "metadata": {},
   "outputs": [],
   "source": [
    "#definitions\n",
    "\n",
    "def input_string(entry): #changes values in the output window\n",
    "    entry_text.set(value= entry_text.get() + str(entry))\n",
    "\n",
    "def calculate(): #evaluates the string\n",
    "    string = str(entry_text.get())\n",
    "    answer = eval(string)\n",
    "    entry_text.set(value= answer)\n",
    "\n",
    "def delete(): #deletes the last element of the string\n",
    "    string = entry_text.get()\n",
    "    string_deleted = string[:-1]\n",
    "    entry_text.set(value= string_deleted)\n",
    "\n",
    "k = 0\n",
    "\n",
    "def theme_change(): #cycles between themes\n",
    "    global k\n",
    "    k += 1\n",
    "    k = k%(len(themes))\n",
    "    style.theme_use(themes[k])\n",
    "    style.configure('small.TButton', font=('Dungeon', 20), borderwidth = 2, bordercolor = 'white') #this is a comment\n",
    "\n",
    "def theme_reset(): #resets theme to default\n",
    "    style.theme_use('yeti')\n",
    "\n",
    "def dark_theme():\n",
    "    style.theme_use('darkly')\n",
    "    style.configure('small.TButton', font=('Dungeon', 20), borderwidth = 2, bordercolor = 'white')\n",
    "\n",
    "def light_theme():\n",
    "    style.theme_use('pulse')\n",
    "    style.configure('small.TButton', font=('Dungeon', 20), borderwidth = 2, bordercolor = 'white')"
   ]
  },
  {
   "cell_type": "code",
   "execution_count": 24,
   "metadata": {},
   "outputs": [
    {
     "data": {
      "text/plain": [
       "''"
      ]
     },
     "execution_count": 24,
     "metadata": {},
     "output_type": "execute_result"
    }
   ],
   "source": [
    "#Window\n",
    "themes = ['cosmo', 'flatly', 'litera',\n",
    "          'minty', 'lumen', 'sandstone', \n",
    "          'yeti', 'pulse', 'united', \n",
    "          'morph', 'journal', 'darkly', \n",
    "          'superhero', 'solar', 'cyborg', \n",
    "          'vapor', 'simplex', 'cerculean']\n",
    "\n",
    "window = ttk.Window(themename= 'yeti')\n",
    "window.geometry('600x410+0+0')\n",
    "window.title('Calculator')\n",
    "window.iconbitmap('D:\\VS CODE PROGRAMS\\ML-CODES-VS\\Python GUI\\Calculator\\calculator.ico')"
   ]
  },
  {
   "cell_type": "code",
   "execution_count": 25,
   "metadata": {},
   "outputs": [],
   "source": [
    "#style\n",
    "style = ttk.Style()\n",
    "style.configure('small.TButton', \n",
    "                font=('Dungeon', 20), \n",
    "                borderwidth = 2, \n",
    "                bordercolor = 'white')"
   ]
  },
  {
   "cell_type": "code",
   "execution_count": 26,
   "metadata": {},
   "outputs": [],
   "source": [
    "#input and output window\n",
    "entry_text = tk.StringVar(value= '')\n",
    "entry = ttk.Entry(window, \n",
    "                  textvariable= entry_text, \n",
    "                  font= 'Dungeon 25', \n",
    "                  justify= 'right', \n",
    "                  width= 15)\n",
    "entry.pack(pady= 20)\n",
    "\n",
    "# button frame\n",
    "main_frame = ttk.Frame(window)\n",
    "\n",
    "frame1 = ttk.Frame(main_frame)\n",
    "frame2 = ttk.Frame(main_frame)\n",
    "frame3 = ttk.Frame(main_frame)\n",
    "frame4 = ttk.Frame(main_frame)\n",
    "\n",
    "#menu\n",
    "menu = tk.Menu(window)\n",
    "\n",
    "#sub menu\n",
    "file_menu = tk.Menu(menu, tearoff= False)\n",
    "file_menu.add_command(label='Dark', command= dark_theme)\n",
    "file_menu.add_command(label='Light', command= light_theme)\n",
    "menu.add_cascade(label='Theme', menu= file_menu)\n",
    "\n",
    "# another sub menu\n",
    "help_menu = tk.Menu(menu, tearoff= False)\n",
    "help_menu.add_command(label='Help entry', command= lambda: print(help_check_string.get()))\n",
    "help_check_string = tk.StringVar()\n",
    "help_menu.add_checkbutton(label= 'Check', onvalue= 'on', offvalue= 'off', variable= help_check_string)\n",
    "menu.add_cascade(label= 'Help', menu= help_menu)\n"
   ]
  },
  {
   "cell_type": "code",
   "execution_count": 27,
   "metadata": {},
   "outputs": [],
   "source": [
    "#buttons\n",
    "btn_1 = ttk.Button(frame1, text='1', style= 'small.TButton', width= '4', command= lambda: input_string(1))\n",
    "btn_2 = ttk.Button(frame2, text='2', style= 'small.TButton', width= '4', command= lambda: input_string(2))\n",
    "btn_3 = ttk.Button(frame3, text='3', style= 'small.TButton', width= '4', command= lambda: input_string(3))\n",
    "btn_4 = ttk.Button(frame1, text='4', style= 'small.TButton', width= '4', command= lambda: input_string(4))\n",
    "btn_5 = ttk.Button(frame2, text='4', style= 'small.TButton', width= '4', command= lambda: input_string(4))\n",
    "btn_6 = ttk.Button(frame3, text='6', style= 'small.TButton', width= '4', command= lambda: input_string(6))\n",
    "btn_7 = ttk.Button(frame1, text='7', style= 'small.TButton', width= '4', command= lambda: input_string(7))\n",
    "btn_8 = ttk.Button(frame2, text='8', style= 'small.TButton', width= '4', command= lambda: input_string(8))\n",
    "btn_9 = ttk.Button(frame3, text='9', style= 'small.TButton', width= '4', command= lambda: input_string(9))\n",
    "btn_0 = ttk.Button(frame2, text='0', style= 'small.TButton', width= '4', command= lambda: input_string(0))\n",
    "btn_mul = ttk.Button(frame4, text='*', style= 'small.TButton', width= '4', command= lambda: input_string('*'))\n",
    "btn_div = ttk.Button(frame4, text='/', style= 'small.TButton', width= '4', command= lambda: input_string('/'))\n",
    "btn_add = ttk.Button(frame4, text='+', style= 'small.TButton', width= '4', command= lambda: input_string('+'))\n",
    "btn_sub = ttk.Button(frame4, text='-', style= 'small.TButton', width= '4', command= lambda: input_string('-'))\n",
    "btn_equal = ttk.Button(frame4, text='=', style= 'small.TButton', width= '4', command= calculate)\n",
    "btn_dot = ttk.Button(frame1, text='.', style= 'small.TButton', width= '4', command= lambda: input_string('.'))\n",
    "btn_clear = ttk.Button(frame3, text='C', style= 'small.TButton', width= '4', command= lambda: entry_text.set(value= ''))\n",
    "btn_delte = ttk.Button(frame3, text='←' , style= 'small.TButton', width= '4', command= delete)\n",
    "btn_theme = ttk.Button(frame2, text='T' , style= 'small.TButton', width= '4', command= theme_change)\n",
    "btn_theme_reset = ttk.Button(frame1, text='TR' , style= 'small.TButton', width= '4', command= theme_reset)"
   ]
  },
  {
   "cell_type": "code",
   "execution_count": 28,
   "metadata": {},
   "outputs": [],
   "source": [
    "#layout\n",
    "btn_1.pack()\n",
    "btn_2.pack()\n",
    "btn_3.pack()\n",
    "btn_4.pack()\n",
    "btn_5.pack()\n",
    "btn_6.pack()\n",
    "btn_7.pack()\n",
    "btn_8.pack()\n",
    "btn_9.pack()\n",
    "btn_0.pack()\n",
    "btn_mul.pack()\n",
    "btn_div.pack()\n",
    "btn_add.pack()\n",
    "btn_sub.pack()\n",
    "btn_equal.pack()\n",
    "btn_dot.pack()\n",
    "btn_delte.pack()\n",
    "btn_clear.pack()\n",
    "btn_theme.pack()\n",
    "btn_theme_reset.pack()\n",
    "window.configure(menu= menu)"
   ]
  },
  {
   "cell_type": "code",
   "execution_count": 29,
   "metadata": {},
   "outputs": [],
   "source": [
    "#layout for frames\n",
    "frame1.pack(side= 'left', fill= 'both', expand= True)\n",
    "frame2.pack(side= 'left', fill= 'both', expand= True)\n",
    "frame3.pack(side= 'left', fill= 'both', expand= True)\n",
    "frame4.pack(side= 'left', fill= 'both', expand= True)\n",
    "\n",
    "main_frame.pack(pady= 10)"
   ]
  },
  {
   "cell_type": "code",
   "execution_count": 30,
   "metadata": {},
   "outputs": [],
   "source": [
    "#run\n",
    "window.mainloop()"
   ]
  }
 ],
 "metadata": {
  "kernelspec": {
   "display_name": "opencv",
   "language": "python",
   "name": "python3"
  },
  "language_info": {
   "codemirror_mode": {
    "name": "ipython",
    "version": 3
   },
   "file_extension": ".py",
   "mimetype": "text/x-python",
   "name": "python",
   "nbconvert_exporter": "python",
   "pygments_lexer": "ipython3",
   "version": "3.8.20"
  }
 },
 "nbformat": 4,
 "nbformat_minor": 2
}
