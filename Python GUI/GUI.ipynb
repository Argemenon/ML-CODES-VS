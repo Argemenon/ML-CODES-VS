{
 "cells": [
  {
   "cell_type": "markdown",
   "metadata": {
    "slideshow": {
     "slide_type": "slide"
    }
   },
   "source": [
    "# Creating GUI in Python"
   ]
  },
  {
   "cell_type": "markdown",
   "metadata": {
    "slideshow": {
     "slide_type": "subslide"
    }
   },
   "source": [
    "We shall use the tkinter libray to create GUI in python. Python comes with tkinter library already installed, however, if you dont have tkinter you can use the following command to install tkinter:\n",
    "\n",
    "pip install tk"
   ]
  },
  {
   "cell_type": "markdown",
   "metadata": {
    "slideshow": {
     "slide_type": "subslide"
    }
   },
   "source": [
    "Let us create a window in which we may convert degrees to radians:"
   ]
  },
  {
   "cell_type": "code",
   "execution_count": 1,
   "metadata": {
    "slideshow": {
     "slide_type": "slide"
    }
   },
   "outputs": [],
   "source": [
    "import tkinter as tk\n",
    "import ttkbootstrap as ttk\n",
    "import numpy as np"
   ]
  },
  {
   "cell_type": "code",
   "execution_count": 2,
   "metadata": {
    "slideshow": {
     "slide_type": "subslide"
    }
   },
   "outputs": [],
   "source": [
    "#Defining the funciton to change radians to degrees\n",
    "\n",
    "def rad():\n",
    "    deg_input = entry_Int.get()\n",
    "    rad_output = deg_input * (np.pi/180)\n",
    "    output_string.set(rad_output)"
   ]
  },
  {
   "cell_type": "code",
   "execution_count": 3,
   "metadata": {
    "slideshow": {
     "slide_type": "subslide"
    }
   },
   "outputs": [
    {
     "data": {
      "text/plain": [
       "''"
      ]
     },
     "execution_count": 3,
     "metadata": {},
     "output_type": "execute_result"
    }
   ],
   "source": [
    "#Creating a window\n",
    "\n",
    "window =ttk.Window(themename= 'darkly')\n",
    "window.title(\"Degrees to Radians\")\n",
    "window.geometry(\"500x200\")"
   ]
  },
  {
   "cell_type": "code",
   "execution_count": 4,
   "metadata": {
    "slideshow": {
     "slide_type": "subslide"
    }
   },
   "outputs": [],
   "source": [
    "#Title\n",
    "\n",
    "title_label = ttk.Label(\n",
    "    master = window,\n",
    "    text= 'Degrees to Radians',\n",
    "    font='palatino 24 bold')\n",
    "title_label.pack()"
   ]
  },
  {
   "cell_type": "code",
   "execution_count": 5,
   "metadata": {
    "slideshow": {
     "slide_type": "subslide"
    }
   },
   "outputs": [],
   "source": [
    "#Input Filed\n",
    "\n",
    "input_frame = ttk.Frame(master=window)\n",
    "\n",
    "entry_Int = tk.IntVar()\n",
    "\n",
    "entry = ttk.Entry(master=input_frame, textvariable= entry_Int)\n",
    "\n",
    "button = ttk.Button(master= input_frame, text='Convert', command = rad)\n",
    "\n",
    "entry.pack(side='left', padx=10)\n",
    "button.pack(side='left')\n",
    "input_frame.pack(pady=10)"
   ]
  },
  {
   "cell_type": "code",
   "execution_count": 6,
   "metadata": {
    "slideshow": {
     "slide_type": "subslide"
    }
   },
   "outputs": [],
   "source": [
    "#Output\n",
    "\n",
    "output_string = tk.StringVar()\n",
    "output_label = ttk.Label(\n",
    "    master = window, \n",
    "    text = \"Output\",\n",
    "    font = 'palatino 24',\n",
    "    textvariable = output_string)\n",
    "output_label.pack(pady=5)"
   ]
  },
  {
   "cell_type": "code",
   "execution_count": 7,
   "metadata": {
    "slideshow": {
     "slide_type": "subslide"
    }
   },
   "outputs": [],
   "source": [
    "window.mainloop()"
   ]
  },
  {
   "cell_type": "markdown",
   "metadata": {
    "slideshow": {
     "slide_type": "slide"
    }
   },
   "source": [
    "### Output\n",
    "\n",
    "This is the window we created:\n",
    "\n",
    "<img src=\"output.png\" width=600>"
   ]
  }
 ],
 "metadata": {
  "kernelspec": {
   "display_name": "opencv",
   "language": "python",
   "name": "python3"
  },
  "language_info": {
   "codemirror_mode": {
    "name": "ipython",
    "version": 3
   },
   "file_extension": ".py",
   "mimetype": "text/x-python",
   "name": "python",
   "nbconvert_exporter": "python",
   "pygments_lexer": "ipython3",
   "version": "3.8.20"
  }
 },
 "nbformat": 4,
 "nbformat_minor": 2
}
