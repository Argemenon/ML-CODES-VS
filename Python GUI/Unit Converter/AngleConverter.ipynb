{
 "cells": [
  {
   "cell_type": "code",
   "execution_count": 1,
   "metadata": {},
   "outputs": [],
   "source": [
    "# Imports\n",
    "\n",
    "import tkinter as tk\n",
    "from PIL import ImageTk, Image\n",
    "import ttkbootstrap as ttk\n",
    "import numpy as np\n",
    "import time"
   ]
  },
  {
   "cell_type": "code",
   "execution_count": 2,
   "metadata": {},
   "outputs": [],
   "source": [
    "# Definitions\n",
    "\n",
    "def DisplayTime():  #Displays time\n",
    "    curr_time = time.strftime(\"%H:%M:%S\", time.localtime())\n",
    "    time_var.set(f'Time: {curr_time}')\n",
    "    window.after(10, DisplayTime)\n",
    "\n",
    "def Deg2Rad():   #Converts degrees to radians\n",
    "    deg_input = entry_Int.get()\n",
    "    rad_output = deg_input * (np.pi/180)\n",
    "    rad_output =  '{0:.3f}'.format(rad_output)\n",
    "    output_string.set(f'{rad_output} Rad')\n",
    "\n",
    "def Rad2Deg():   #Converts radians to degrees\n",
    "    rad_input = entry_Int.get()\n",
    "    deg_output = rad_input * (180/np.pi)\n",
    "    deg_output =  '{0:.3f}'.format(deg_output)\n",
    "    output_string.set(f'{deg_output} °')\n",
    "\n",
    "def convert():  #Selects between the above two funcitons\n",
    "    if radio_value.get() is False:\n",
    "        return(Rad2Deg())\n",
    "    else:\n",
    "        return(Deg2Rad())"
   ]
  },
  {
   "cell_type": "code",
   "execution_count": 3,
   "metadata": {},
   "outputs": [],
   "source": [
    "#Window\n",
    "\n",
    "window =ttk.Window(themename= 'solar')\n",
    "window.title(\"Angle Converter\")\n",
    "window.geometry(\"550x350\")\n",
    "\n",
    "# Title Frame\n",
    "title_frame = ttk.Frame(window)\n",
    "\n",
    "#title\n",
    "title_value = tk.StringVar(value= 'Degrees to Radians')\n",
    "title_label = ttk.Label(\n",
    "    master = title_frame,\n",
    "    textvariable= title_value,\n",
    "    font='Candara 30')\n",
    "title_label.pack(side= 'right')"
   ]
  },
  {
   "cell_type": "code",
   "execution_count": 4,
   "metadata": {},
   "outputs": [],
   "source": [
    "#Photo\n",
    "\n",
    "pic = Image.open('D:\\VS CODE PROGRAMS\\Python GUI\\Misc\\logo.png')\n",
    "\n",
    "pic_resized = pic.resize((70,70), Image.Resampling.NEAREST)\n",
    "\n",
    "new_pic = ImageTk.PhotoImage(pic_resized)\n",
    "\n",
    "img_label = ttk.Label(title_frame, image = new_pic)\n",
    "img_label.pack(side= 'right')\n",
    "\n",
    "title_frame.pack()\n",
    "title_frame.pack(pady=20)"
   ]
  },
  {
   "cell_type": "code",
   "execution_count": 5,
   "metadata": {},
   "outputs": [],
   "source": [
    "#radio\n",
    "\n",
    "radio_value = tk.BooleanVar(value= True)\n",
    "\n",
    "radio1 = ttk.Radiobutton(\n",
    "    window, \n",
    "    text='Degrees to Radians', \n",
    "    value= True, \n",
    "    command= lambda: title_value.set(value= 'Degrees to Radians'), \n",
    "    variable= radio_value)\n",
    "radio1.pack()\n",
    "\n",
    "radio2 = ttk.Radiobutton(\n",
    "    window, \n",
    "    text='Radians to Degrees', \n",
    "    value= False, \n",
    "    command= lambda: title_value.set(value= 'Radians to Degrees'),\n",
    "    variable= radio_value)\n",
    "radio2.pack()"
   ]
  },
  {
   "cell_type": "code",
   "execution_count": 6,
   "metadata": {},
   "outputs": [],
   "source": [
    "#input field\n",
    "\n",
    "input_frame = ttk.Frame(master=window)\n",
    "\n",
    "entry_Int = tk.DoubleVar()\n",
    "\n",
    "entry = ttk.Entry(master=input_frame, textvariable= entry_Int, font='Candara 15')\n",
    "\n",
    "button = ttk.Button(master= input_frame, text='Convert', command = convert)\n",
    "\n",
    "entry.pack(side='left', padx=10)\n",
    "button.pack(side='left')\n",
    "input_frame.pack(pady=10)"
   ]
  },
  {
   "cell_type": "code",
   "execution_count": 7,
   "metadata": {},
   "outputs": [],
   "source": [
    "#output\n",
    "\n",
    "output_string = tk.StringVar()\n",
    "output_label = ttk.Label(\n",
    "    master = window, \n",
    "    text = \"Output\",\n",
    "    font = 'Candara 24',\n",
    "    textvariable = output_string,\n",
    "    foreground= 'yellow')\n",
    "output_label.pack(pady=5)"
   ]
  },
  {
   "cell_type": "code",
   "execution_count": 8,
   "metadata": {},
   "outputs": [],
   "source": [
    "#time\n",
    "\n",
    "time_var = tk.StringVar(value = 'time')\n",
    "tim = ttk.Label(window, textvariable= time_var,font = 'Candara 15')\n",
    "tim.pack(side= 'left')\n",
    "tim.pack(padx=10)\n",
    "DisplayTime()"
   ]
  },
  {
   "cell_type": "code",
   "execution_count": 9,
   "metadata": {},
   "outputs": [],
   "source": [
    "#run\n",
    "\n",
    "window.mainloop()"
   ]
  }
 ],
 "metadata": {
  "kernelspec": {
   "display_name": "opencv",
   "language": "python",
   "name": "python3"
  },
  "language_info": {
   "codemirror_mode": {
    "name": "ipython",
    "version": 3
   },
   "file_extension": ".py",
   "mimetype": "text/x-python",
   "name": "python",
   "nbconvert_exporter": "python",
   "pygments_lexer": "ipython3",
   "version": "3.8.20"
  }
 },
 "nbformat": 4,
 "nbformat_minor": 2
}
