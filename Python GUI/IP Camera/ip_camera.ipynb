{
 "cells": [
  {
   "cell_type": "code",
   "execution_count": 1,
   "metadata": {},
   "outputs": [],
   "source": [
    "import tkinter as tk\n",
    "import ttkbootstrap as ttk\n",
    "import cv2\n",
    "from PIL import Image, ImageTk"
   ]
  },
  {
   "cell_type": "code",
   "execution_count": 2,
   "metadata": {},
   "outputs": [],
   "source": [
    "x = 0\n",
    "\n",
    "def update_frame():\n",
    "    global cap, label, x\n",
    "    ret, frame = cap.read()\n",
    "    if ret:\n",
    "        frame = cv2.cvtColor(frame, cv2.COLOR_BGR2RGB)\n",
    "        img = Image.fromarray(frame)\n",
    "        imgtk = ImageTk.PhotoImage(image=img)\n",
    "        label.imgtk = imgtk\n",
    "        label.configure(image=imgtk)\n",
    "        x += 1\n",
    "        frame_number.set(value= x)\n",
    "    label.after(10, update_frame)"
   ]
  },
  {
   "cell_type": "code",
   "execution_count": 3,
   "metadata": {},
   "outputs": [],
   "source": [
    "def play_ip_video(ip_url):\n",
    "    global cap, label\n",
    "    cap = cv2.VideoCapture(ip_url)\n",
    "    \n",
    "    if not cap.isOpened():\n",
    "        print(\"Error: Could not open video stream.\")\n",
    "        return\n",
    "    \n",
    "    update_frame()"
   ]
  },
  {
   "cell_type": "code",
   "execution_count": 4,
   "metadata": {},
   "outputs": [],
   "source": [
    "def on_closing():\n",
    "    cap.release()\n",
    "    window.destroy()\n"
   ]
  },
  {
   "cell_type": "code",
   "execution_count": 5,
   "metadata": {},
   "outputs": [],
   "source": [
    "#Window\n",
    "window = ttk.Window()\n",
    "window.geometry('700x600')\n",
    "window.title('IP camera')\n",
    "\n",
    "btn = ttk.Button(window, text= 'EXIT', command= lambda: exit())\n",
    "btn.pack(pady= 10)\n",
    "\n",
    "label = ttk.Label(window)\n",
    "label.pack()\n",
    "\n",
    "frame_number = tk.IntVar(value= 0)\n",
    "label2 = ttk.Label(window, textvariable= frame_number, font= 'Calibri 20')\n",
    "label2.pack()"
   ]
  },
  {
   "cell_type": "code",
   "execution_count": 6,
   "metadata": {},
   "outputs": [],
   "source": [
    "ip_camera_url = \"http://100.66.205.244:8080/video\"\n",
    "play_ip_video(ip_camera_url)"
   ]
  },
  {
   "cell_type": "code",
   "execution_count": null,
   "metadata": {},
   "outputs": [],
   "source": [
    "#run\n",
    "window.mainloop()"
   ]
  }
 ],
 "metadata": {
  "kernelspec": {
   "display_name": "opencv",
   "language": "python",
   "name": "python3"
  },
  "language_info": {
   "codemirror_mode": {
    "name": "ipython",
    "version": 3
   },
   "file_extension": ".py",
   "mimetype": "text/x-python",
   "name": "python",
   "nbconvert_exporter": "python",
   "pygments_lexer": "ipython3",
   "version": "3.8.20"
  }
 },
 "nbformat": 4,
 "nbformat_minor": 2
}
