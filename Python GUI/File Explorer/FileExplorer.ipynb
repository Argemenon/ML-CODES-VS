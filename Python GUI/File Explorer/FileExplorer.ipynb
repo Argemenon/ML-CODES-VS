{
 "cells": [
  {
   "cell_type": "markdown",
   "metadata": {},
   "source": [
    "# Image Viewer"
   ]
  },
  {
   "cell_type": "markdown",
   "metadata": {},
   "source": [
    "The following program lets you choose an image from file explorer and then opens it:"
   ]
  },
  {
   "cell_type": "code",
   "execution_count": 1,
   "metadata": {},
   "outputs": [],
   "source": [
    "#import all modules\n",
    "import tkinter as tk\n",
    "import ttkbootstrap as ttk\n",
    "from tkinter import filedialog\n",
    "from PIL import Image, ImageTk"
   ]
  },
  {
   "cell_type": "code",
   "execution_count": 2,
   "metadata": {},
   "outputs": [],
   "source": [
    "#definitions\n",
    "def OpenFile(): #opens the file and resizes it\n",
    "    directory = filedialog.askopenfilename(\n",
    "        initialdir= \"C:\\\\Users\\\\DELL\\\\OneDrive\\\\Pictures\\\\POSTERS\", \n",
    "        filetypes= ((\"jpeg files\", \"*.jpg\"),(\"png files\", \"*.png\"))\n",
    "        )\n",
    "    pic = Image.open(directory)\n",
    "    h,w = pic.size\n",
    "    ratio = w/h\n",
    "    pic_resized = pic.resize((450,int(450*(ratio))), Image.Resampling.NEAREST)\n",
    "    resized_pic = ImageTk.PhotoImage(pic_resized)\n",
    "    img_label.configure(image= resized_pic)\n",
    "    img_label.image = resized_pic\n",
    "\n",
    "def exit_func(event): #closes the window when exit is selected\n",
    "    v = list_var.get()\n",
    "    if v == item[1]:\n",
    "        exit()"
   ]
  },
  {
   "cell_type": "code",
   "execution_count": 3,
   "metadata": {},
   "outputs": [
    {
     "data": {
      "text/plain": [
       "''"
      ]
     },
     "execution_count": 3,
     "metadata": {},
     "output_type": "execute_result"
    }
   ],
   "source": [
    "#window    \n",
    "window = ttk.Window(themename= 'solar')\n",
    "window.title('Image Displayer')\n",
    "window.geometry('550x700')"
   ]
  },
  {
   "cell_type": "code",
   "execution_count": 4,
   "metadata": {},
   "outputs": [],
   "source": [
    "#button frame starts\n",
    "frame = ttk.Frame()\n",
    "\n",
    "#buttons\n",
    "open_button = ttk.Button(frame, text= 'Open File Explorer', command= OpenFile)\n",
    "open_button.pack(pady= 5, padx= 3)\n",
    "open_button.pack(side= 'left')\n",
    "\n",
    "exit_button = ttk.Button(frame, text= 'Exit', command= lambda: exit())\n",
    "exit_button.pack(side= 'left')\n",
    "\n",
    "frame.pack() \n",
    "#button frame ends"
   ]
  },
  {
   "cell_type": "code",
   "execution_count": 5,
   "metadata": {},
   "outputs": [],
   "source": [
    "#image\n",
    "img_label = ttk.Label(window)\n",
    "img_label.pack(pady= 10)"
   ]
  },
  {
   "cell_type": "code",
   "execution_count": 6,
   "metadata": {},
   "outputs": [],
   "source": [
    "#combobox\n",
    "item = ('Do Nothing', 'Exit')\n",
    "list_var = tk.StringVar(value = item[0])\n",
    "combobox = ttk.Combobox(window, textvariable= list_var)\n",
    "combobox['values'] = item\n",
    "combobox.bind('<FocusIn>', exit_func)\n",
    "combobox.pack()"
   ]
  },
  {
   "cell_type": "code",
   "execution_count": 7,
   "metadata": {},
   "outputs": [],
   "source": [
    "#run\n",
    "window.mainloop()"
   ]
  }
 ],
 "metadata": {
  "kernelspec": {
   "display_name": "opencv",
   "language": "python",
   "name": "python3"
  },
  "language_info": {
   "codemirror_mode": {
    "name": "ipython",
    "version": 3
   },
   "file_extension": ".py",
   "mimetype": "text/x-python",
   "name": "python",
   "nbconvert_exporter": "python",
   "pygments_lexer": "ipython3",
   "version": "3.8.20"
  }
 },
 "nbformat": 4,
 "nbformat_minor": 2
}
