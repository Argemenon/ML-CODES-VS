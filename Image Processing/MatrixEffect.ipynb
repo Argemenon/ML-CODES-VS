{
 "cells": [
  {
   "cell_type": "code",
   "execution_count": 1,
   "metadata": {},
   "outputs": [],
   "source": [
    "import cv2\n",
    "import matplotlib.pyplot as plt\n",
    "import numpy as np"
   ]
  },
  {
   "cell_type": "code",
   "execution_count": null,
   "metadata": {},
   "outputs": [],
   "source": [
    "#Create a new np array:\n",
    "array = np.zeros([426,640,3], dtype= np.uint8)\n",
    "\n",
    "img1 = cv2.imread('\"E:\\PICTURES\\\\fotu\\New folder (3)\\IMG_6590.JPG\"', -1)\n",
    "img2 = cv2.imread('Image Processing/Images/space.jpg', -1)\n",
    "\n",
    "h,w,c = img1.shape\n",
    "\n",
    "print(h, w)"
   ]
  },
  {
   "cell_type": "code",
   "execution_count": null,
   "metadata": {},
   "outputs": [],
   "source": [
    "for i in range(0,h):\n",
    "    for j in range(0,w):\n",
    "        array[i,j] = 0.5*img1[i,j] + 0.5*img2[i,j]\n",
    "\n",
    "print(np.max(array))\n",
    "\n",
    "m = np.max(array)"
   ]
  },
  {
   "cell_type": "code",
   "execution_count": null,
   "metadata": {},
   "outputs": [],
   "source": [
    "for i in range(0,h):\n",
    "    for j in range(0,w):\n",
    "        array[i,j] = array[i,j] + (255-m, 255-m, 255-m)\n",
    "\n",
    "print(np.max(array))\n",
    "\n",
    "plt.imshow(array)\n",
    "\n",
    "plt.show()"
   ]
  }
 ],
 "metadata": {
  "kernelspec": {
   "display_name": "opencv",
   "language": "python",
   "name": "python3"
  },
  "language_info": {
   "codemirror_mode": {
    "name": "ipython",
    "version": 3
   },
   "file_extension": ".py",
   "mimetype": "text/x-python",
   "name": "python",
   "nbconvert_exporter": "python",
   "pygments_lexer": "ipython3",
   "version": "3.8.20"
  }
 },
 "nbformat": 4,
 "nbformat_minor": 2
}
